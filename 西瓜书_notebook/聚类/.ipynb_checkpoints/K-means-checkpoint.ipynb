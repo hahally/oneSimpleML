{
 "cells": [
  {
   "cell_type": "markdown",
   "metadata": {},
   "source": [
    "### k 均值算法"
   ]
  },
  {
   "cell_type": "markdown",
   "metadata": {},
   "source": [
    "### Code --- K-means"
   ]
  },
  {
   "cell_type": "code",
   "execution_count": 1,
   "metadata": {},
   "outputs": [],
   "source": [
    "# 导包\n",
    "\n",
    "import numpy as np\n",
    "import pandas as pd\n",
    "import matplotlib.pyplot as plt\n",
    "%matplotlib inline\n",
    "# 对中文的支持\n",
    "plt.rcParams['font.sans-serif']=['SimHei']\n",
    "plt.rcParams['axes.unicode_minus'] = False"
   ]
  },
  {
   "cell_type": "code",
   "execution_count": 38,
   "metadata": {},
   "outputs": [
    {
     "data": {
      "text/html": [
       "<div>\n",
       "<style scoped>\n",
       "    .dataframe tbody tr th:only-of-type {\n",
       "        vertical-align: middle;\n",
       "    }\n",
       "\n",
       "    .dataframe tbody tr th {\n",
       "        vertical-align: top;\n",
       "    }\n",
       "\n",
       "    .dataframe thead th {\n",
       "        text-align: right;\n",
       "    }\n",
       "</style>\n",
       "<table border=\"1\" class=\"dataframe\">\n",
       "  <thead>\n",
       "    <tr style=\"text-align: right;\">\n",
       "      <th></th>\n",
       "      <th>编号</th>\n",
       "      <th>密度</th>\n",
       "      <th>含糖率</th>\n",
       "    </tr>\n",
       "  </thead>\n",
       "  <tbody>\n",
       "    <tr>\n",
       "      <th>0</th>\n",
       "      <td>1</td>\n",
       "      <td>0.697</td>\n",
       "      <td>0.460</td>\n",
       "    </tr>\n",
       "    <tr>\n",
       "      <th>1</th>\n",
       "      <td>2</td>\n",
       "      <td>0.774</td>\n",
       "      <td>0.376</td>\n",
       "    </tr>\n",
       "    <tr>\n",
       "      <th>2</th>\n",
       "      <td>3</td>\n",
       "      <td>0.634</td>\n",
       "      <td>0.264</td>\n",
       "    </tr>\n",
       "    <tr>\n",
       "      <th>3</th>\n",
       "      <td>4</td>\n",
       "      <td>0.608</td>\n",
       "      <td>0.318</td>\n",
       "    </tr>\n",
       "    <tr>\n",
       "      <th>4</th>\n",
       "      <td>5</td>\n",
       "      <td>0.556</td>\n",
       "      <td>0.215</td>\n",
       "    </tr>\n",
       "    <tr>\n",
       "      <th>5</th>\n",
       "      <td>6</td>\n",
       "      <td>0.403</td>\n",
       "      <td>0.237</td>\n",
       "    </tr>\n",
       "    <tr>\n",
       "      <th>6</th>\n",
       "      <td>7</td>\n",
       "      <td>0.481</td>\n",
       "      <td>0.149</td>\n",
       "    </tr>\n",
       "    <tr>\n",
       "      <th>7</th>\n",
       "      <td>8</td>\n",
       "      <td>0.437</td>\n",
       "      <td>0.211</td>\n",
       "    </tr>\n",
       "    <tr>\n",
       "      <th>8</th>\n",
       "      <td>9</td>\n",
       "      <td>0.666</td>\n",
       "      <td>0.091</td>\n",
       "    </tr>\n",
       "    <tr>\n",
       "      <th>9</th>\n",
       "      <td>10</td>\n",
       "      <td>0.243</td>\n",
       "      <td>0.267</td>\n",
       "    </tr>\n",
       "    <tr>\n",
       "      <th>10</th>\n",
       "      <td>11</td>\n",
       "      <td>0.245</td>\n",
       "      <td>0.057</td>\n",
       "    </tr>\n",
       "    <tr>\n",
       "      <th>11</th>\n",
       "      <td>12</td>\n",
       "      <td>0.343</td>\n",
       "      <td>0.099</td>\n",
       "    </tr>\n",
       "    <tr>\n",
       "      <th>12</th>\n",
       "      <td>13</td>\n",
       "      <td>0.639</td>\n",
       "      <td>0.161</td>\n",
       "    </tr>\n",
       "    <tr>\n",
       "      <th>13</th>\n",
       "      <td>14</td>\n",
       "      <td>0.657</td>\n",
       "      <td>0.198</td>\n",
       "    </tr>\n",
       "    <tr>\n",
       "      <th>14</th>\n",
       "      <td>15</td>\n",
       "      <td>0.360</td>\n",
       "      <td>0.370</td>\n",
       "    </tr>\n",
       "    <tr>\n",
       "      <th>15</th>\n",
       "      <td>16</td>\n",
       "      <td>0.593</td>\n",
       "      <td>0.042</td>\n",
       "    </tr>\n",
       "    <tr>\n",
       "      <th>16</th>\n",
       "      <td>17</td>\n",
       "      <td>0.719</td>\n",
       "      <td>0.103</td>\n",
       "    </tr>\n",
       "    <tr>\n",
       "      <th>17</th>\n",
       "      <td>18</td>\n",
       "      <td>0.359</td>\n",
       "      <td>0.188</td>\n",
       "    </tr>\n",
       "    <tr>\n",
       "      <th>18</th>\n",
       "      <td>19</td>\n",
       "      <td>0.339</td>\n",
       "      <td>0.241</td>\n",
       "    </tr>\n",
       "    <tr>\n",
       "      <th>19</th>\n",
       "      <td>20</td>\n",
       "      <td>0.282</td>\n",
       "      <td>0.257</td>\n",
       "    </tr>\n",
       "    <tr>\n",
       "      <th>20</th>\n",
       "      <td>21</td>\n",
       "      <td>0.748</td>\n",
       "      <td>0.232</td>\n",
       "    </tr>\n",
       "    <tr>\n",
       "      <th>21</th>\n",
       "      <td>22</td>\n",
       "      <td>0.714</td>\n",
       "      <td>0.346</td>\n",
       "    </tr>\n",
       "    <tr>\n",
       "      <th>22</th>\n",
       "      <td>23</td>\n",
       "      <td>0.483</td>\n",
       "      <td>0.312</td>\n",
       "    </tr>\n",
       "    <tr>\n",
       "      <th>23</th>\n",
       "      <td>24</td>\n",
       "      <td>0.478</td>\n",
       "      <td>0.437</td>\n",
       "    </tr>\n",
       "    <tr>\n",
       "      <th>24</th>\n",
       "      <td>25</td>\n",
       "      <td>0.525</td>\n",
       "      <td>0.369</td>\n",
       "    </tr>\n",
       "    <tr>\n",
       "      <th>25</th>\n",
       "      <td>26</td>\n",
       "      <td>0.751</td>\n",
       "      <td>0.489</td>\n",
       "    </tr>\n",
       "    <tr>\n",
       "      <th>26</th>\n",
       "      <td>27</td>\n",
       "      <td>0.532</td>\n",
       "      <td>0.472</td>\n",
       "    </tr>\n",
       "    <tr>\n",
       "      <th>27</th>\n",
       "      <td>28</td>\n",
       "      <td>0.473</td>\n",
       "      <td>0.376</td>\n",
       "    </tr>\n",
       "    <tr>\n",
       "      <th>28</th>\n",
       "      <td>29</td>\n",
       "      <td>0.725</td>\n",
       "      <td>0.445</td>\n",
       "    </tr>\n",
       "    <tr>\n",
       "      <th>29</th>\n",
       "      <td>30</td>\n",
       "      <td>0.446</td>\n",
       "      <td>0.459</td>\n",
       "    </tr>\n",
       "  </tbody>\n",
       "</table>\n",
       "</div>"
      ],
      "text/plain": [
       "    编号     密度    含糖率\n",
       "0    1  0.697  0.460\n",
       "1    2  0.774  0.376\n",
       "2    3  0.634  0.264\n",
       "3    4  0.608  0.318\n",
       "4    5  0.556  0.215\n",
       "5    6  0.403  0.237\n",
       "6    7  0.481  0.149\n",
       "7    8  0.437  0.211\n",
       "8    9  0.666  0.091\n",
       "9   10  0.243  0.267\n",
       "10  11  0.245  0.057\n",
       "11  12  0.343  0.099\n",
       "12  13  0.639  0.161\n",
       "13  14  0.657  0.198\n",
       "14  15  0.360  0.370\n",
       "15  16  0.593  0.042\n",
       "16  17  0.719  0.103\n",
       "17  18  0.359  0.188\n",
       "18  19  0.339  0.241\n",
       "19  20  0.282  0.257\n",
       "20  21  0.748  0.232\n",
       "21  22  0.714  0.346\n",
       "22  23  0.483  0.312\n",
       "23  24  0.478  0.437\n",
       "24  25  0.525  0.369\n",
       "25  26  0.751  0.489\n",
       "26  27  0.532  0.472\n",
       "27  28  0.473  0.376\n",
       "28  29  0.725  0.445\n",
       "29  30  0.446  0.459"
      ]
     },
     "execution_count": 38,
     "metadata": {},
     "output_type": "execute_result"
    }
   ],
   "source": [
    "# 加载数据 西瓜数据集4.0\n",
    "\n",
    "df = pd.read_csv('data4.0.csv')\n",
    "df"
   ]
  },
  {
   "cell_type": "code",
   "execution_count": 50,
   "metadata": {},
   "outputs": [
    {
     "data": {
      "text/plain": [
       "array([0.697, 0.46 ])"
      ]
     },
     "execution_count": 50,
     "metadata": {},
     "output_type": "execute_result"
    }
   ],
   "source": [
    "dt = df.iloc[:,1:].to_numpy(copy=True)\n",
    "dt.shape\n",
    "dt[0]"
   ]
  },
  {
   "cell_type": "code",
   "execution_count": 51,
   "metadata": {},
   "outputs": [
    {
     "data": {
      "text/plain": [
       "array([[1, 2],\n",
       "       [3, 4]])"
      ]
     },
     "execution_count": 51,
     "metadata": {},
     "output_type": "execute_result"
    }
   ],
   "source": [
    "np.array([[1,2],[3,4]])"
   ]
  },
  {
   "cell_type": "code",
   "execution_count": 52,
   "metadata": {},
   "outputs": [
    {
     "data": {
      "text/plain": [
       "array([[-0.303, -1.54 ],\n",
       "       [-2.303, -3.54 ]])"
      ]
     },
     "execution_count": 52,
     "metadata": {},
     "output_type": "execute_result"
    }
   ],
   "source": [
    "dt[0] - np.array([[1,2],[3,4]])"
   ]
  },
  {
   "cell_type": "code",
   "execution_count": 53,
   "metadata": {},
   "outputs": [
    {
     "data": {
      "text/plain": [
       "array([[0.697, 0.46 ],\n",
       "       [0.697, 0.46 ]])"
      ]
     },
     "execution_count": 53,
     "metadata": {},
     "output_type": "execute_result"
    }
   ],
   "source": [
    "np.tile(dt[0],(2,1))"
   ]
  },
  {
   "cell_type": "code",
   "execution_count": 45,
   "metadata": {},
   "outputs": [
    {
     "data": {
      "image/png": "[encoded data removed]",
      "text/plain": [
       "<Figure size 432x288 with 1 Axes>"
      ]
     },
     "metadata": {
      "needs_background": "light"
     },
     "output_type": "display_data"
    }
   ],
   "source": [
    "plt.scatter(dt[:,0],dt[:,1],c='g',alpha=0.5)\n",
    "plt.xlabel('密度')\n",
    "plt.ylabel(\"含糖率\")\n",
    "plt.show()"
   ]
  },
  {
   "cell_type": "code",
   "execution_count": 308,
   "metadata": {},
   "outputs": [],
   "source": [
    "# k-means 算法\n",
    "\n",
    "\n",
    "def K_means(D, k, expoch):\n",
    "    \"\"\"\n",
    "    D:样本数据集 np.array\n",
    "    k:聚类簇数\n",
    "    expoch:最大迭代次数\n",
    "    return:簇划分数据集 C = C{C1,C2,..,Ck}\n",
    "    \"\"\"\n",
    "    cp_D = np.copy(D)\n",
    "    m = cp_D.shape[0]\n",
    "\n",
    "    # 从 D 中选择 k 个样本初始均值向量 {u1,u2,..,uk}\n",
    "    miu = cp_D[[5, 11, 23], :]\n",
    "#     import random\n",
    "#     sli = random.sample(range(0,30),k)\n",
    "#     miu = cp_D[sli, :]\n",
    "    C = {}\n",
    "    for step in range(expoch):\n",
    "        # 初始化 C\n",
    "        for n in range(k):\n",
    "\n",
    "            C[str(n)] = set()\n",
    "\n",
    "        for j in range(m):\n",
    "            # 计算样本 xj 与各均值向量 miu 的距离：dist_ji\n",
    "            xj = np.tile(cp_D[j], (k, 1))\n",
    "            dist = np.sqrt(np.sum((xj - miu)**2, axis=1))\n",
    "            # 根据距离最近的均值向量确定 xj 的簇标记\n",
    "            min_dist = np.min(dist)\n",
    "            argmin = np.argmin(dist)\n",
    "            C[str(argmin)].add(j)\n",
    "        \n",
    "        \n",
    "        count = 0\n",
    "        c = ['b','g','r']\n",
    "        plt.figure()\n",
    "        for i in range(k):\n",
    "            # 计算新的均值向量\n",
    "            new_miu_i = np.sum(cp_D[list(C[str(i)]),:], axis=0) / len(C[str(i)])\n",
    "            plt.scatter(new_miu_i[0],new_miu_i[1],s=80,c=c[i],marker='x')\n",
    "            plt.scatter(cp_D[list(C[str(i)]),0],cp_D[list(C[str(i)]),1],c=c[i],alpha=0.5)\n",
    "            plt.title(\"第%d次迭代\"%(step+1))\n",
    "            plt.xlabel('密度')\n",
    "            plt.ylabel('含糖率')\n",
    "            \n",
    "            flag = np.sum((np.abs(miu[i] - new_miu_i) <= 1e-10) + 0)\n",
    "            if flag < len(new_miu_i):\n",
    "                miu[i] = new_miu_i\n",
    "            else:\n",
    "                count = count + 1\n",
    "        if count == k:\n",
    "            break\n",
    "        print(\"step %d :\"%step)\n",
    "        print('miu:',miu)\n",
    "        print('C',C)\n",
    "        print('='*30)\n",
    "    return C,miu"
   ]
  },
  {
   "cell_type": "code",
   "execution_count": 309,
   "metadata": {},
   "outputs": [
    {
     "name": "stdout",
     "output_type": "stream",
     "text": [
      "step 0 :\n",
      "miu: [[0.49271429 0.20671429]\n",
      " [0.39366667 0.066     ]\n",
      " [0.60238462 0.39607692]]\n",
      "C {'0': {2, 4, 5, 6, 7, 8, 9, 12, 13, 16, 17, 18, 19, 22}, '1': {10, 11, 15}, '2': {0, 1, 3, 14, 20, 21, 23, 24, 25, 26, 27, 28, 29}}\n",
      "==============================\n",
      "step 1 :\n",
      "miu: [[0.50884615 0.199     ]\n",
      " [0.2975     0.15275   ]\n",
      " [0.62346154 0.38792308]]\n",
      "C {'0': {4, 5, 6, 7, 8, 12, 13, 14, 15, 16, 18, 19, 22}, '1': {9, 10, 11, 17}, '2': {0, 1, 2, 3, 20, 21, 23, 24, 25, 26, 27, 28, 29}}\n",
      "==============================\n",
      "step 2 :\n",
      "miu: [[0.5634     0.1719    ]\n",
      " [0.31014286 0.21128571]\n",
      " [0.62346154 0.38792308]]\n",
      "C {'0': {4, 5, 6, 7, 8, 12, 13, 15, 16, 22}, '1': {9, 10, 11, 14, 17, 18, 19}, '2': {0, 1, 2, 3, 20, 21, 23, 24, 25, 26, 27, 28, 29}}\n",
      "==============================\n",
      "step 3 :\n",
      "miu: [[0.63255556 0.16166667]\n",
      " [0.33455556 0.21411111]\n",
      " [0.6005     0.40491667]]\n",
      "C {'0': {2, 4, 6, 8, 12, 13, 15, 16, 20}, '1': {5, 7, 9, 10, 11, 14, 17, 18, 19}, '2': {0, 1, 3, 21, 22, 23, 24, 25, 26, 27, 28, 29}}\n",
      "==============================\n"
     ]
    },
    {
     "data": {
      "image/png": "[encoded data removed]",
      "text/plain": [
       "<Figure size 432x288 with 1 Axes>"
      ]
     },
     "metadata": {
      "needs_background": "light"
     },
     "output_type": "display_data"
    },
    {
     "data": {
      "image/png": "[encoded data removed]",
      "text/plain": [
       "<Figure size 432x288 with 1 Axes>"
      ]
     },
     "metadata": {
      "needs_background": "light"
     },
     "output_type": "display_data"
    },
    {
     "data": {
      "image/png": "[encoded data removed]",
      "text/plain": [
       "<Figure size 432x288 with 1 Axes>"
      ]
     },
     "metadata": {
      "needs_background": "light"
     },
     "output_type": "display_data"
    },
    {
     "data": {
      "image/png": "[encoded data removed]",
      "text/plain": [
       "<Figure size 432x288 with 1 Axes>"
      ]
     },
     "metadata": {
      "needs_background": "light"
     },
     "output_type": "display_data"
    },
    {
     "data": {
      "image/png": "[encoded data removed]",
      "text/plain": [
       "<Figure size 432x288 with 1 Axes>"
      ]
     },
     "metadata": {
      "needs_background": "light"
     },
     "output_type": "display_data"
    }
   ],
   "source": [
    "C,miu = K_means(D=dt,k=3,expoch=10)"
   ]
  }
 ],
 "metadata": {
  "kernelspec": {
   "display_name": "Python 3",
   "language": "python",
   "name": "python3"
  },
  "language_info": {
   "codemirror_mode": {
    "name": "ipython",
    "version": 3
   },
   "file_extension": ".py",
   "mimetype": "text/x-python",
   "name": "python",
   "nbconvert_exporter": "python",
   "pygments_lexer": "ipython3",
   "version": "3.5.3"
  },
  "toc": {
   "base_numbering": 1,
   "nav_menu": {},
   "number_sections": true,
   "sideBar": true,
   "skip_h1_title": false,
   "title_cell": "Table of Contents",
   "title_sidebar": "Contents",
   "toc_cell": false,
   "toc_position": {
    "height": "calc(100% - 180px)",
    "left": "10px",
    "top": "150px",
    "width": "266.208px"
   },
   "toc_section_display": true,
   "toc_window_display": false
  },
  "varInspector": {
   "cols": {
    "lenName": 16,
    "lenType": 16,
    "lenVar": 40
   },
   "kernels_config": {
    "python": {
     "delete_cmd_postfix": "",
     "delete_cmd_prefix": "del ",
     "library": "var_list.py",
     "varRefreshCmd": "print(var_dic_list())"
    },
    "r": {
     "delete_cmd_postfix": ") ",
     "delete_cmd_prefix": "rm(",
     "library": "var_list.r",
     "varRefreshCmd": "cat(var_dic_list()) "
    }
   },
   "types_to_exclude": [
    "module",
    "function",
    "builtin_function_or_method",
    "instance",
    "_Feature"
   ],
   "window_display": false
  }
 },
 "nbformat": 4,
 "nbformat_minor": 2
}
